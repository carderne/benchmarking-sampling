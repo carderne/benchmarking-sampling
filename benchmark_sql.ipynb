{
 "cells": [
  {
   "cell_type": "markdown",
   "metadata": {},
   "source": [
    "# Benchmark: SQL inserting\n",
    "\n",
    "Several different ways of inserting data into Postgres, and a benchmark suite at the bottom."
   ]
  },
  {
   "cell_type": "code",
   "execution_count": null,
   "metadata": {},
   "outputs": [],
   "source": [
    "import time\n",
    "from io import StringIO\n",
    "from io import BytesIO\n",
    "from struct import pack\n",
    "\n",
    "import joblib\n",
    "import matplotlib.pyplot as plt\n",
    "import psycopg2\n",
    "import psycopg2.extras as extras\n",
    "import numpy as np\n",
    "import pandas as pd"
   ]
  },
  {
   "cell_type": "markdown",
   "metadata": {},
   "source": [
    "# insert"
   ]
  },
  {
   "cell_type": "code",
   "execution_count": null,
   "metadata": {},
   "outputs": [],
   "source": [
    "def insert(df, table):\n",
    "    for _, row in df.iterrows():\n",
    "        cur.execute(\n",
    "            f\"\"\"\n",
    "            INSERT INTO {table} (date, loc, varA, varB, varC)\n",
    "            VALUES (%s, %s, %s, %s, %s)\n",
    "            \"\"\",\n",
    "            row.tolist(),\n",
    "        )"
   ]
  },
  {
   "cell_type": "markdown",
   "metadata": {},
   "source": [
    "# execute_values"
   ]
  },
  {
   "cell_type": "code",
   "execution_count": null,
   "metadata": {},
   "outputs": [],
   "source": [
    "def values(df, table):\n",
    "    sql = f\"INSERT INTO {table} (date, loc, varA, varB, varC) VALUES %s\"\n",
    "    extras.execute_values(cur, sql, df.values)"
   ]
  },
  {
   "cell_type": "markdown",
   "metadata": {},
   "source": [
    "# upsert"
   ]
  },
  {
   "cell_type": "code",
   "execution_count": null,
   "metadata": {},
   "outputs": [],
   "source": [
    "def upsert(df, table):\n",
    "    sql = f\"\"\"\n",
    "    INSERT INTO {table} (date, loc, varA, varB, varC) \n",
    "    VALUES %s\n",
    "    ON CONFLICT (date, loc)\n",
    "    DO UPDATE SET varA = excluded.varA, \n",
    "                  varB = excluded.varB,\n",
    "                  varC = excluded.varC;\n",
    "    \"\"\"\n",
    "    extras.execute_values(cur, sql, df.values)"
   ]
  },
  {
   "cell_type": "markdown",
   "metadata": {},
   "source": [
    "# copy_from"
   ]
  },
  {
   "cell_type": "code",
   "execution_count": null,
   "metadata": {},
   "outputs": [],
   "source": [
    "def copy(df, table):\n",
    "    tmp = \"tmp.csv\"\n",
    "    df.to_csv(tmp, index=False, header=False)\n",
    "    f = open(tmp, \"r\")\n",
    "    cur.copy_from(f, table, sep=\",\")"
   ]
  },
  {
   "cell_type": "markdown",
   "metadata": {},
   "source": [
    "# copy_from memory"
   ]
  },
  {
   "cell_type": "code",
   "execution_count": null,
   "metadata": {},
   "outputs": [],
   "source": [
    "def copy_mem(df, table):\n",
    "    buff = StringIO()\n",
    "    df.to_csv(buff, index=False, header=False)\n",
    "    buff.seek(0)\n",
    "    cur.copy_from(buff, table, sep=\",\")"
   ]
  },
  {
   "cell_type": "markdown",
   "metadata": {},
   "source": [
    "# copy_from ignore duplicates"
   ]
  },
  {
   "cell_type": "code",
   "execution_count": null,
   "metadata": {},
   "outputs": [],
   "source": [
    "def make_temp(table, temp):\n",
    "    cur.execute(\n",
    "        f\"\"\"\n",
    "    CREATE TEMP TABLE {name} ON COMMIT DROP\n",
    "    AS SELECT * FROM {table} WITH NO DATA;\n",
    "    \"\"\"\n",
    "    )"
   ]
  },
  {
   "cell_type": "code",
   "execution_count": null,
   "metadata": {},
   "outputs": [],
   "source": [
    "def temp_to_main(temp, table):\n",
    "    cur.execute(\n",
    "        f\"\"\"\n",
    "    INSERT INTO {table}\n",
    "    SELECT * FROM {temp}\n",
    "    ON CONFLICT (date, loc)\n",
    "    DO UPDATE SET varA = excluded.varA, \n",
    "                  varB = excluded.varB,\n",
    "                  varC = excluded.varC;\n",
    "    \"\"\"\n",
    "    )"
   ]
  },
  {
   "cell_type": "code",
   "execution_count": null,
   "metadata": {},
   "outputs": [],
   "source": [
    "def copy_mem_upsert(df, table):\n",
    "    temp = \"tmp\"\n",
    "    make_temp(table, temp)\n",
    "    copy_mem(df, temp)\n",
    "    temp_to_main(table, temp)"
   ]
  },
  {
   "cell_type": "markdown",
   "metadata": {},
   "source": [
    "# copy_from binary\n",
    "https://stackoverflow.com/a/8150329"
   ]
  },
  {
   "cell_type": "code",
   "execution_count": null,
   "metadata": {},
   "outputs": [],
   "source": [
    "def prepare_binary(data):\n",
    "    pgcopy_dtype = [(\"num_fields\", \">i2\")]\n",
    "    for field, dtype in data.dtype.descr:\n",
    "        pgcopy_dtype += [(field + \"_length\", \">i4\"), (field, dtype.replace(\"<\", \">\"))]\n",
    "    pgcopy = np.empty(data.shape, pgcopy_dtype)\n",
    "    pgcopy[\"num_fields\"] = len(data.dtype)\n",
    "    for i in range(len(data.dtype)):\n",
    "        field = data.dtype.names[i]\n",
    "        pgcopy[field + \"_length\"] = data.dtype[i].alignment\n",
    "        pgcopy[field] = data[field]\n",
    "    byt = BytesIO()\n",
    "    byt.write(pack(\"!11sii\", b\"PGCOPY\\n\\377\\r\\n\\0\", 0, 0))\n",
    "    byt.write(pgcopy.tobytes())\n",
    "    byt.write(pack(\"!h\", -1))\n",
    "    byt.seek(0)\n",
    "    return byt"
   ]
  },
  {
   "cell_type": "code",
   "execution_count": null,
   "metadata": {},
   "outputs": [],
   "source": [
    "def copy_bin(df, table):\n",
    "    data = df.to_records(index=False)\n",
    "    byt = prepare_binary(data)\n",
    "    cur.copy_expert(f\"COPY {table} FROM STDIN WITH BINARY\", byt)"
   ]
  },
  {
   "cell_type": "markdown",
   "metadata": {},
   "source": [
    "# copy_from binary ignore"
   ]
  },
  {
   "cell_type": "code",
   "execution_count": null,
   "metadata": {},
   "outputs": [],
   "source": [
    "def copy_bin_upsert(df, table):\n",
    "    temp = make_temp(table)\n",
    "    copy_bin(df, temp)\n",
    "    temp_to_main(temp, table)"
   ]
  },
  {
   "cell_type": "markdown",
   "metadata": {},
   "source": [
    "# Benchmarking"
   ]
  },
  {
   "cell_type": "code",
   "execution_count": null,
   "metadata": {},
   "outputs": [],
   "source": [
    "class Benchmarker:\n",
    "    def __init__(self, nums, loops, df, table):\n",
    "        self.nums = nums\n",
    "        self.loops = loops\n",
    "        self.df = df\n",
    "        self.table = table\n",
    "        self.times = pd.DataFrame(index=nums)\n",
    "\n",
    "    def prep(self):\n",
    "        try:\n",
    "            cur.execute(\n",
    "                f\"\"\"\n",
    "            CREATE TABLE {self.table}    \n",
    "            (\n",
    "                date integer NOT NULL,\n",
    "                loc integer NOT NULL,\n",
    "                varA real NOT NULL,\n",
    "                varB real NOT NULL,\n",
    "                varC real NOT NULL,\n",
    "                UNIQUE (date, loc)\n",
    "            )\n",
    "            \"\"\"\n",
    "            )\n",
    "        except:\n",
    "            pass\n",
    "        finally:\n",
    "            conn.commit()\n",
    "\n",
    "    def drop(self):\n",
    "        try:\n",
    "            cur.execute(f\"DROP TABLE {self.table}\")\n",
    "        except:\n",
    "            pass\n",
    "        finally:\n",
    "            conn.commit()\n",
    "\n",
    "    def bench(self, func):\n",
    "        res = []\n",
    "        print(func.__name__, end=\": \")\n",
    "        for num in nums:\n",
    "            print(num, end=\"  \")\n",
    "            best = 9e9\n",
    "            for _ in range(self.loops):\n",
    "                d = self.df[:num]\n",
    "                conn.commit()\n",
    "                self.drop()\n",
    "                self.prep()\n",
    "                start = time.time()\n",
    "                func(d, self.table)\n",
    "                conn.commit()\n",
    "                elapsed = time.time() - start\n",
    "                if elapsed < best:\n",
    "                    best = elapsed\n",
    "            res.append(best)\n",
    "        self.times[func.__name__] = res\n",
    "        print()"
   ]
  },
  {
   "cell_type": "code",
   "execution_count": null,
   "metadata": {},
   "outputs": [],
   "source": [
    "df = joblib.load(\"data/df.joblib\")"
   ]
  },
  {
   "cell_type": "code",
   "execution_count": null,
   "metadata": {},
   "outputs": [],
   "source": [
    "conn = psycopg2.connect(dbname=\"climate\", user=\"chris\",)\n",
    "cur = conn.cursor()"
   ]
  },
  {
   "cell_type": "code",
   "execution_count": null,
   "metadata": {},
   "outputs": [],
   "source": [
    "nums = [1, 10, 100, 1000, 10000, 100000, 1000000]\n",
    "loops = 4\n",
    "b = Benchmarker(nums, loops, df, table=\"test\")"
   ]
  },
  {
   "cell_type": "code",
   "execution_count": null,
   "metadata": {},
   "outputs": [],
   "source": [
    "b.bench(insert)\n",
    "b.bench(values)\n",
    "b.bench(upsert)\n",
    "b.bench(copy)\n",
    "b.bench(copy_mem)\n",
    "b.bench(copy_mem_upsert)\n",
    "b.bench(copy_bin)\n",
    "b.bench(copy_bin_upsert)"
   ]
  },
  {
   "cell_type": "code",
   "execution_count": null,
   "metadata": {},
   "outputs": [],
   "source": [
    "b.times.to_csv(\"sql_times.csv\")"
   ]
  },
  {
   "cell_type": "code",
   "execution_count": null,
   "metadata": {},
   "outputs": [],
   "source": [
    "fix, ax = plt.subplots(figsize=(20, 10))\n",
    "b.times.plot(ax=ax)\n",
    "plt.show()"
   ]
  },
  {
   "cell_type": "code",
   "execution_count": null,
   "metadata": {},
   "outputs": [],
   "source": []
  }
 ],
 "metadata": {
  "kernelspec": {
   "display_name": "oxeo",
   "language": "python",
   "name": "oxeo"
  },
  "language_info": {
   "codemirror_mode": {
    "name": "ipython",
    "version": 3
   },
   "file_extension": ".py",
   "mimetype": "text/x-python",
   "name": "python",
   "nbconvert_exporter": "python",
   "pygments_lexer": "ipython3",
   "version": "3.7.3"
  }
 },
 "nbformat": 4,
 "nbformat_minor": 4
}
