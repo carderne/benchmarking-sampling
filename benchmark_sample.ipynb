{
 "cells": [
  {
   "cell_type": "markdown",
   "metadata": {},
   "source": [
    "# Benchmark: raster sampling\n",
    "A bunch of different ways of sampling data from rasters at points.\n",
    "\n",
    "There's benchmarking code at the bottom."
   ]
  },
  {
   "cell_type": "code",
   "execution_count": null,
   "metadata": {},
   "outputs": [],
   "source": [
    "import warnings\n",
    "import time\n",
    "from math import floor\n",
    "\n",
    "import geopandas as gpd\n",
    "import numpy as np\n",
    "import pandas as pd\n",
    "import matplotlib.pyplot as plt\n",
    "import seaborn as sns\n",
    "from affine import Affine\n",
    "from rasterstats import zonal_stats\n",
    "from rasterio.io import MemoryFile\n",
    "import joblib\n",
    "from numba import jit, njit, prange"
   ]
  },
  {
   "cell_type": "markdown",
   "metadata": {},
   "source": [
    "# rasterstats"
   ]
  },
  {
   "cell_type": "code",
   "execution_count": null,
   "metadata": {},
   "outputs": [],
   "source": [
    "def rasterstats(locs, cube, aff):\n",
    "    dfs = []\n",
    "    for d in range(cube.shape[0]):\n",
    "        res = {}\n",
    "        for v in range(cube.shape[1]):\n",
    "            s = zonal_stats(locs, cube[d, v, :, :], stats=\"mean\", affine=aff)\n",
    "            res[v] = [x[\"mean\"] for x in s]\n",
    "        dfs.append(pd.DataFrame(res))\n",
    "        break\n",
    "    return pd.concat(dfs)"
   ]
  },
  {
   "cell_type": "markdown",
   "metadata": {},
   "source": [
    "# Manual sampling"
   ]
  },
  {
   "cell_type": "code",
   "execution_count": null,
   "metadata": {},
   "outputs": [],
   "source": [
    "def manual(locs, cube, aff):\n",
    "    with MemoryFile() as m:\n",
    "        h, w, d = cube.shape[-2], cube.shape[-1], cube.dtype\n",
    "        ds = m.open(driver=\"GTiff\", count=1, height=h, width=w, dtype=d, transform=aff,)\n",
    "    dfs = []\n",
    "    for idx, row in locs.iterrows():\n",
    "        row, col = ds.index(row.geometry.x, row.geometry.y)\n",
    "        res = cube[:, :, row, col]\n",
    "        res = pd.DataFrame(res)\n",
    "        dfs.append(res)\n",
    "    return pd.concat(dfs)"
   ]
  },
  {
   "cell_type": "markdown",
   "metadata": {},
   "source": [
    "# Latlon"
   ]
  },
  {
   "cell_type": "code",
   "execution_count": null,
   "metadata": {},
   "outputs": [],
   "source": [
    "def latlon(locs, cube, aff):\n",
    "    with MemoryFile() as m:\n",
    "        h, w, d = cube.shape[-2], cube.shape[-1], cube.dtype\n",
    "        ds = m.open(driver=\"GTiff\", count=1, height=h, width=w, dtype=d, transform=aff,)\n",
    "    dfs = []\n",
    "    for i in range(len(locs)):\n",
    "        row, col = ds.index(locs[i][0], locs[i][1])\n",
    "        res = cube[:, :, row, col]\n",
    "        res = pd.DataFrame(res)\n",
    "        dfs.append(res)\n",
    "    df = pd.concat(dfs)\n",
    "    return df"
   ]
  },
  {
   "cell_type": "markdown",
   "metadata": {},
   "source": [
    "# No pandas"
   ]
  },
  {
   "cell_type": "code",
   "execution_count": null,
   "metadata": {},
   "outputs": [],
   "source": [
    "def nopandas(locs, cube, aff):\n",
    "    xs, ys = locs\n",
    "    with MemoryFile() as m:\n",
    "        h, w, d = cube.shape[-2], cube.shape[-1], cube.dtype\n",
    "        ds = m.open(driver=\"GTiff\", count=1, height=h, width=w, dtype=d, transform=aff,)\n",
    "    res = []\n",
    "    for i in range(len(xs)):\n",
    "        row, col = ds.index(xs[i], ys[i])\n",
    "        res.append(cube[:, :, row, col])\n",
    "    df = pd.DataFrame(np.concatenate(res))\n",
    "    return df"
   ]
  },
  {
   "cell_type": "markdown",
   "metadata": {},
   "source": [
    "# No rasterio"
   ]
  },
  {
   "cell_type": "code",
   "execution_count": null,
   "metadata": {},
   "outputs": [],
   "source": [
    "def norasterio(locs, cube, aff):\n",
    "    xs, ys = locs\n",
    "    res = []\n",
    "    for i in range(len(xs)):\n",
    "        col, row = ~aff * (xs[i], ys[i])\n",
    "        res.append(cube[:, :, floor(row), floor(col)])\n",
    "    df = pd.DataFrame(np.concatenate(res))\n",
    "    return df"
   ]
  },
  {
   "cell_type": "markdown",
   "metadata": {},
   "source": [
    "# No affine"
   ]
  },
  {
   "cell_type": "code",
   "execution_count": null,
   "metadata": {},
   "outputs": [],
   "source": [
    "def noaffine(locs, cube, aff):\n",
    "    xs, ys = locs\n",
    "    sa, sb, sc, sd, se, sf, _, _, _ = tuple(~aff)\n",
    "    res = []\n",
    "    for i in range(len(xs)):\n",
    "        col, row = (xs[i] * sa + ys[i] * sb + sc, xs[i] * sd + ys[i] * se + sf)\n",
    "        res.append(cube[:, :, floor(row), floor(col)])\n",
    "    df = pd.DataFrame(np.concatenate(res))\n",
    "    return df"
   ]
  },
  {
   "cell_type": "markdown",
   "metadata": {},
   "source": [
    "# JiT"
   ]
  },
  {
   "cell_type": "code",
   "execution_count": null,
   "metadata": {},
   "outputs": [],
   "source": [
    "@jit\n",
    "def jitted(locs, cube, aff):\n",
    "    xs, ys = locs\n",
    "    sa, sb, sc, sd, se, sf, _, _, _ = tuple(~aff)\n",
    "    res = []\n",
    "    for i in range(len(xs)):\n",
    "        col, row = (xs[i] * sa + ys[i] * sb + sc, xs[i] * sd + ys[i] * se + sf)\n",
    "        res.append(cube[:, :, floor(row), floor(col)])\n",
    "    df = pd.DataFrame(np.concatenate(res))\n",
    "    return df"
   ]
  },
  {
   "cell_type": "markdown",
   "metadata": {},
   "source": [
    "# njit"
   ]
  },
  {
   "cell_type": "code",
   "execution_count": null,
   "metadata": {},
   "outputs": [],
   "source": [
    "@njit\n",
    "def _njitted(xs, ys, cube, invaff):\n",
    "    sa, sb, sc, sd, se, sf, _, _, _ = invaff\n",
    "    num_points = len(xs)\n",
    "    num_scenes = cube.shape[0]\n",
    "    num_bands = cube.shape[1]\n",
    "    avals = np.empty((num_points * num_scenes, num_bands), dtype=np.float32)\n",
    "    for i in range(num_points):\n",
    "        col, row = (xs[i] * sa + ys[i] * sb + sc, xs[i] * sd + ys[i] * se + sf)\n",
    "        res = cube[:, :, floor(row), floor(col)]\n",
    "        avals[i * num_scenes : (i + 1) * num_scenes, :] = res\n",
    "    return avals\n",
    "\n",
    "\n",
    "def njitted(locs, cube, aff):\n",
    "    xs, ys = locs\n",
    "    invaff = tuple(~aff)\n",
    "    avals = _njitted(xs, ys, cube, invaff)\n",
    "    df = pd.DataFrame(data=avals)\n",
    "    return df"
   ]
  },
  {
   "cell_type": "markdown",
   "metadata": {},
   "source": [
    "# parallel"
   ]
  },
  {
   "cell_type": "code",
   "execution_count": null,
   "metadata": {},
   "outputs": [],
   "source": [
    "@njit(parallel=True)\n",
    "def _parallel(xs, ys, cube, invaff):\n",
    "    sa, sb, sc, sd, se, sf, _, _, _ = invaff\n",
    "    num_points = len(xs)\n",
    "    num_scenes = cube.shape[0]\n",
    "    num_bands = cube.shape[1]\n",
    "    avals = np.empty((num_points * num_scenes, num_bands), dtype=np.float32)\n",
    "    for i in prange(num_points):\n",
    "        col, row = (xs[i] * sa + ys[i] * sb + sc, xs[i] * sd + ys[i] * se + sf)\n",
    "        res = cube[:, :, floor(row), floor(col)]\n",
    "        avals[i * num_scenes : (i + 1) * num_scenes, :] = res\n",
    "    return avals\n",
    "\n",
    "\n",
    "def parallel(locs, cube, aff):\n",
    "    xs, ys = locs\n",
    "    invaff = tuple(~aff)\n",
    "    avals = _parallel(xs, ys, cube, invaff)\n",
    "    df = pd.DataFrame(data=avals)\n",
    "    return df"
   ]
  },
  {
   "cell_type": "markdown",
   "metadata": {},
   "source": [
    "# Benchmarking"
   ]
  },
  {
   "cell_type": "code",
   "execution_count": null,
   "metadata": {},
   "outputs": [],
   "source": [
    "class Benchmarker:\n",
    "    def __init__(self, nums, loops, locs, cube, aff):\n",
    "        self.nums = nums\n",
    "        self.loops = loops\n",
    "        self.locs = locs\n",
    "        self.cube = cube\n",
    "        self.aff = aff\n",
    "        self.times = pd.DataFrame(index=nums)\n",
    "        self.results = pd.DataFrame(index=[0, 1, 2])\n",
    "\n",
    "    def bench(self, func, prep=None):\n",
    "        res = []\n",
    "        print(func.__name__, end=\": \")\n",
    "        for num in nums:\n",
    "            print(num, end=\"  \")\n",
    "            best = 9e9\n",
    "            for _ in range(self.loops):\n",
    "                p = self.locs[:num]\n",
    "                if prep:\n",
    "                    p = prep(p)\n",
    "                start = time.time()\n",
    "                df = func(p, self.cube, self.aff)\n",
    "                self.results[func.__name__] = df.head(1).T\n",
    "                elapsed = time.time() - start\n",
    "                if elapsed < best:\n",
    "                    best = elapsed\n",
    "            res.append(best)\n",
    "        self.times[func.__name__] = res\n",
    "        print()"
   ]
  },
  {
   "cell_type": "code",
   "execution_count": null,
   "metadata": {},
   "outputs": [],
   "source": [
    "locs = gpd.read_file(\"data/locs.gpkg\")\n",
    "cube = joblib.load(\"data/cube.joblib\")\n",
    "aff = Affine.from_gdal(111.0, 0.5, 0.0, -7.5, 0.0, -0.5)"
   ]
  },
  {
   "cell_type": "code",
   "execution_count": null,
   "metadata": {},
   "outputs": [],
   "source": [
    "def prep_xys(locs):\n",
    "    return [(row.geometry.x, row.geometry.y) for _, row in locs.iterrows()]\n",
    "\n",
    "\n",
    "def prep_xs(locs):\n",
    "    xs = np.array([row.geometry.x for _, row in locs.iterrows()])\n",
    "    ys = np.array([row.geometry.y for _, row in locs.iterrows()])\n",
    "    return xs, ys"
   ]
  },
  {
   "cell_type": "code",
   "execution_count": null,
   "metadata": {},
   "outputs": [],
   "source": [
    "nums = [1, 10, 100, 1000, 10000]\n",
    "loops = 4\n",
    "b = Benchmarker(nums, loops, locs, cube, aff)"
   ]
  },
  {
   "cell_type": "code",
   "execution_count": null,
   "metadata": {},
   "outputs": [],
   "source": [
    "with warnings.catch_warnings():\n",
    "    warnings.simplefilter(\"ignore\")\n",
    "    b.bench(rasterstats)\n",
    "    b.bench(manual)\n",
    "    b.bench(latlon, prep_xys)\n",
    "    b.bench(nopandas, prep_xs)\n",
    "    b.bench(norasterio, prep_xs)\n",
    "    b.bench(noaffine, prep_xs)\n",
    "    b.bench(jitted, prep_xs)\n",
    "    b.bench(njitted, prep_xs)\n",
    "    b.bench(parallel, prep_xs)"
   ]
  },
  {
   "cell_type": "code",
   "execution_count": null,
   "metadata": {},
   "outputs": [],
   "source": [
    "# rasterstats only did one day out of the year\n",
    "b.times.rasterstats = b.times.rasterstats * 365"
   ]
  },
  {
   "cell_type": "code",
   "execution_count": null,
   "metadata": {},
   "outputs": [],
   "source": [
    "b.times.to_csv(\"sample_times.csv\")"
   ]
  },
  {
   "cell_type": "code",
   "execution_count": null,
   "metadata": {},
   "outputs": [],
   "source": [
    "fix, ax = plt.subplots(figsize=(20, 10))\n",
    "b.times.plot(ax=ax)\n",
    "ax.set_ylim([0, 0.1])\n",
    "plt.show()"
   ]
  },
  {
   "cell_type": "code",
   "execution_count": null,
   "metadata": {},
   "outputs": [],
   "source": [
    "cols = b.results.columns\n",
    "for c in cols:\n",
    "    assert (b.results[c] == b.results[cols[0]]).all()"
   ]
  },
  {
   "cell_type": "code",
   "execution_count": null,
   "metadata": {},
   "outputs": [],
   "source": []
  }
 ],
 "metadata": {
  "kernelspec": {
   "display_name": "Python 3",
   "language": "python",
   "name": "python3"
  },
  "language_info": {
   "codemirror_mode": {
    "name": "ipython",
    "version": 3
   },
   "file_extension": ".py",
   "mimetype": "text/x-python",
   "name": "python",
   "nbconvert_exporter": "python",
   "pygments_lexer": "ipython3",
   "version": "3.7.3"
  }
 },
 "nbformat": 4,
 "nbformat_minor": 4
}
